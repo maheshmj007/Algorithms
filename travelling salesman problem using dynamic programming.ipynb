{
 "cells": [
  {
   "cell_type": "markdown",
   "metadata": {},
   "source": [
    "### Assignment: Travelling salesman problem using Dynamic programming\n",
    "* Name    : Mahesh M J\n",
    "* Reg. No.: 19-26-07\n",
    "* Course  : Mtech / AI "
   ]
  },
  {
   "cell_type": "code",
   "execution_count": 33,
   "metadata": {
    "collapsed": true
   },
   "outputs": [],
   "source": [
    "import numpy as np\n",
    "import sys\n",
    "dist_matrix = np.array([[0,20,42,25],\n",
    "        [20,0,30,34],\n",
    "        [42,30,0,10],\n",
    "        [25,34,10,0]])\n",
    "\n",
    "visited_all = (1<<dist_matrix.shape[0]) - 1\n",
    "\n",
    "dp = np.ones((dist_matrix.size,dist_matrix.shape[0]))*-1\n"
   ]
  },
  {
   "cell_type": "code",
   "execution_count": 44,
   "metadata": {
    "collapsed": true
   },
   "outputs": [],
   "source": [
    "def tsp(mask,pos):\n",
    "    print(mask)\n",
    "    if mask == visited_all:\n",
    "        return dp[pos][0]\n",
    "    if dp[mask][pos]!=-1:\n",
    "        return dp[mask][pos]\n",
    "    ans = sys.maxsize\n",
    "    for city in range(dist_matrix.shape[0]):\n",
    "        \n",
    "        if (mask & 1<<city) == 0:\n",
    "            print( mask|(1<<city),city)\n",
    "            new_ans = dist_matrix[pos][city] + tsp( mask|(1<<city),city)\n",
    "            ans = min(ans,new_ans)\n",
    "    dp[mask][pos] = ans\n",
    "    return dp[mask][pos]\n",
    "        \n",
    "        "
   ]
  },
  {
   "cell_type": "code",
   "execution_count": 45,
   "metadata": {
    "scrolled": false
   },
   "outputs": [
    {
     "name": "stdout",
     "output_type": "stream",
     "text": [
      "1\n",
      "3 1\n",
      "3\n",
      "7 2\n",
      "7\n",
      "15 3\n",
      "15\n",
      "11 3\n",
      "11\n",
      "15 2\n",
      "15\n",
      "5 2\n",
      "5\n",
      "7 1\n",
      "7\n",
      "15 3\n",
      "15\n",
      "13 3\n",
      "13\n",
      "15 1\n",
      "15\n",
      "9 3\n",
      "9\n",
      "11 1\n",
      "11\n",
      "15 2\n",
      "15\n",
      "13 2\n",
      "13\n",
      "15 1\n",
      "15\n"
     ]
    },
    {
     "data": {
      "text/plain": [
       "59.0"
      ]
     },
     "execution_count": 45,
     "metadata": {},
     "output_type": "execute_result"
    }
   ],
   "source": [
    "tsp(1,0)"
   ]
  },
  {
   "cell_type": "code",
   "execution_count": 36,
   "metadata": {},
   "outputs": [
    {
     "data": {
      "text/plain": [
       "0"
      ]
     },
     "execution_count": 36,
     "metadata": {},
     "output_type": "execute_result"
    }
   ],
   "source": [
    "mask&city"
   ]
  },
  {
   "cell_type": "code",
   "execution_count": 37,
   "metadata": {},
   "outputs": [
    {
     "data": {
      "text/plain": [
       "True"
      ]
     },
     "execution_count": 37,
     "metadata": {},
     "output_type": "execute_result"
    }
   ],
   "source": [
    "mask&city ==0"
   ]
  },
  {
   "cell_type": "code",
   "execution_count": 38,
   "metadata": {},
   "outputs": [
    {
     "data": {
      "text/plain": [
       "2"
      ]
     },
     "execution_count": 38,
     "metadata": {},
     "output_type": "execute_result"
    }
   ],
   "source": [
    "1<<1"
   ]
  }
 ],
 "metadata": {
  "kernelspec": {
   "display_name": "Python 3",
   "language": "python",
   "name": "python3"
  },
  "language_info": {
   "codemirror_mode": {
    "name": "ipython",
    "version": 3
   },
   "file_extension": ".py",
   "mimetype": "text/x-python",
   "name": "python",
   "nbconvert_exporter": "python",
   "pygments_lexer": "ipython3",
   "version": "3.6.3"
  }
 },
 "nbformat": 4,
 "nbformat_minor": 2
}
