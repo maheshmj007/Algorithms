{
 "cells": [
  {
   "cell_type": "code",
   "execution_count": 8,
   "metadata": {
    "collapsed": true
   },
   "outputs": [],
   "source": [
    "import numpy as np\n",
    "import sys"
   ]
  },
  {
   "cell_type": "code",
   "execution_count": 3,
   "metadata": {},
   "outputs": [],
   "source": [
    "mat_dim = np.array([[10,15],[15,18],[18,35],[35,13],[13,24]])"
   ]
  },
  {
   "cell_type": "code",
   "execution_count": 14,
   "metadata": {
    "collapsed": true
   },
   "outputs": [],
   "source": [
    "mat_arr = np.ones([mat_dim.shape[0]]*2)*sys.maxsize\n",
    "for i in range(mat_dim.shape[0]):\n",
    "    mat_arr[i][i]=0"
   ]
  },
  {
   "cell_type": "code",
   "execution_count": 20,
   "metadata": {},
   "outputs": [],
   "source": [
    "def dyn_matmul(start,stop):\n",
    "    if start == stop:\n",
    "        return 0\n",
    "    if mat_arr[start][stop] != sys.maxsize:\n",
    "        return mat_arr[start][stop]\n",
    "    for i in range(start,stop):\n",
    "        d = min(mat_arr[start][stop],\n",
    "                dyn_matmul(start,i)+dyn_matmul(i+1,stop)+mat_dim[start][0]*mat_dim[i+1][0]*mat_dim[stop][1])\n",
    "        mat_arr[start][stop] = d\n",
    "    return mat_arr[start][stop]\n",
    "\n",
    "        "
   ]
  },
  {
   "cell_type": "code",
   "execution_count": 21,
   "metadata": {},
   "outputs": [
    {
     "data": {
      "text/plain": [
       "16350.0"
      ]
     },
     "execution_count": 21,
     "metadata": {},
     "output_type": "execute_result"
    }
   ],
   "source": [
    "dyn_matmul(0,4)"
   ]
  },
  {
   "cell_type": "code",
   "execution_count": 23,
   "metadata": {},
   "outputs": [
    {
     "data": {
      "text/plain": [
       "array([[0.00000000e+00, 2.70000000e+03, 9.00000000e+03, 1.32300000e+04,\n",
       "        1.63500000e+04],\n",
       "       [9.22337204e+18, 0.00000000e+00, 9.45000000e+03, 1.17000000e+04,\n",
       "        1.63800000e+04],\n",
       "       [9.22337204e+18, 9.22337204e+18, 0.00000000e+00, 8.19000000e+03,\n",
       "        1.38060000e+04],\n",
       "       [9.22337204e+18, 9.22337204e+18, 9.22337204e+18, 0.00000000e+00,\n",
       "        1.09200000e+04],\n",
       "       [9.22337204e+18, 9.22337204e+18, 9.22337204e+18, 9.22337204e+18,\n",
       "        0.00000000e+00]])"
      ]
     },
     "execution_count": 23,
     "metadata": {},
     "output_type": "execute_result"
    }
   ],
   "source": [
    "mat_arr"
   ]
  }
 ],
 "metadata": {
  "kernelspec": {
   "display_name": "Python 3",
   "language": "python",
   "name": "python3"
  },
  "language_info": {
   "codemirror_mode": {
    "name": "ipython",
    "version": 3
   },
   "file_extension": ".py",
   "mimetype": "text/x-python",
   "name": "python",
   "nbconvert_exporter": "python",
   "pygments_lexer": "ipython3",
   "version": "3.6.3"
  }
 },
 "nbformat": 4,
 "nbformat_minor": 2
}
